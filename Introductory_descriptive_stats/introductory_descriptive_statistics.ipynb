{
  "cells": [
    {
      "cell_type": "markdown",
      "metadata": {
        "id": "9HYKQFUbTX8V"
      },
      "source": [
        "# Exploring descriptive statistics"
      ],
      "id": "9HYKQFUbTX8V"
    },
    {
      "cell_type": "markdown",
      "metadata": {
        "id": "ee31943b-274e-4c28-bce6-155cb6f4c334"
      },
      "source": [
        "## **Introduction**\n",
        "\n",
        "\n",
        "This is an assignment to analyze data on air quality with respect to carbon monoxide, a major air pollutant. The data includes information from more than 200 sites, identified by state, county, city, and local site names. Target is to gather statistics about air quality, then share insights with stakeholders."
      ],
      "id": "ee31943b-274e-4c28-bce6-155cb6f4c334"
    },
    {
      "cell_type": "code",
      "execution_count": 1,
      "metadata": {
        "id": "8e7f1f2c-bbcc-4f3c-b927-b090ee8334c4"
      },
      "outputs": [],
      "source": [
        "# Import relevant Python libraries.\n",
        "\n",
        "import pandas as pd\n",
        "import numpy as np"
      ],
      "id": "8e7f1f2c-bbcc-4f3c-b927-b090ee8334c4"
    },
    {
      "cell_type": "markdown",
      "metadata": {
        "id": "7d29c6bd-f194-46bb-b794-56dc20130473"
      },
      "source": [
        "Loadig the dataset into a DataFrame. The dataset provided is in the form of a .csv file named `c4_epa_air_quality.csv`. It contains a subset of data from the U.S. EPA."
      ],
      "id": "7d29c6bd-f194-46bb-b794-56dc20130473"
    },
    {
      "cell_type": "code",
      "execution_count": 3,
      "metadata": {
        "id": "3bd40d44-080f-4e49-b0c2-160dedc3c4df"
      },
      "outputs": [],
      "source": [
        "epa_data = pd.read_csv(\"/content/sample_data/c4_epa_air_quality.csv\", index_col = 0)"
      ],
      "id": "3bd40d44-080f-4e49-b0c2-160dedc3c4df"
    },
    {
      "cell_type": "markdown",
      "metadata": {
        "id": "95bf39c9-d05c-4324-a40b-bc692607b61b"
      },
      "source": [
        "## **Data exploration**"
      ],
      "id": "95bf39c9-d05c-4324-a40b-bc692607b61b"
    },
    {
      "cell_type": "markdown",
      "metadata": {
        "id": "26561614-8e9b-4840-8dbf-b50131ae5314",
        "tags": []
      },
      "source": [
        "To understand how the dataset is structured, displaying the first 10 rows of the data."
      ],
      "id": "26561614-8e9b-4840-8dbf-b50131ae5314"
    },
    {
      "cell_type": "code",
      "execution_count": 4,
      "metadata": {
        "colab": {
          "base_uri": "https://localhost:8080/",
          "height": 591
        },
        "id": "ad5210a5-7a64-4991-b004-de818cfaf506",
        "outputId": "7fc8a2fa-370d-4260-fd6f-aec89a1049ab"
      },
      "outputs": [
        {
          "output_type": "execute_result",
          "data": {
            "text/plain": [
              "   date_local    state_name   county_name      city_name  \\\n",
              "0  2018-01-01       Arizona      Maricopa        Buckeye   \n",
              "1  2018-01-01          Ohio       Belmont      Shadyside   \n",
              "2  2018-01-01       Wyoming         Teton  Not in a city   \n",
              "3  2018-01-01  Pennsylvania  Philadelphia   Philadelphia   \n",
              "4  2018-01-01          Iowa          Polk     Des Moines   \n",
              "5  2018-01-01        Hawaii      Honolulu  Not in a city   \n",
              "6  2018-01-01        Hawaii      Honolulu  Not in a city   \n",
              "7  2018-01-01  Pennsylvania          Erie           Erie   \n",
              "8  2018-01-01        Hawaii      Honolulu       Honolulu   \n",
              "9  2018-01-01      Colorado       Larimer   Fort Collins   \n",
              "\n",
              "                                     local_site_name   parameter_name  \\\n",
              "0                                            BUCKEYE  Carbon monoxide   \n",
              "1                                          Shadyside  Carbon monoxide   \n",
              "2  Yellowstone National Park - Old Faithful Snow ...  Carbon monoxide   \n",
              "3                             North East Waste (NEW)  Carbon monoxide   \n",
              "4                                          CARPENTER  Carbon monoxide   \n",
              "5                                            Kapolei  Carbon monoxide   \n",
              "6                                            Kapolei  Carbon monoxide   \n",
              "7                                                NaN  Carbon monoxide   \n",
              "8                                           Honolulu  Carbon monoxide   \n",
              "9                      Fort Collins - CSU - S. Mason  Carbon monoxide   \n",
              "\n",
              "    units_of_measure  arithmetic_mean  aqi  \n",
              "0  Parts per million         0.473684    7  \n",
              "1  Parts per million         0.263158    5  \n",
              "2  Parts per million         0.111111    2  \n",
              "3  Parts per million         0.300000    3  \n",
              "4  Parts per million         0.215789    3  \n",
              "5  Parts per million         0.994737   14  \n",
              "6  Parts per million         0.200000    2  \n",
              "7  Parts per million         0.200000    2  \n",
              "8  Parts per million         0.400000    5  \n",
              "9  Parts per million         0.300000    6  "
            ],
            "text/html": [
              "\n",
              "  <div id=\"df-4ac59daf-63cc-4d6b-824f-a1e67b37538c\" class=\"colab-df-container\">\n",
              "    <div>\n",
              "<style scoped>\n",
              "    .dataframe tbody tr th:only-of-type {\n",
              "        vertical-align: middle;\n",
              "    }\n",
              "\n",
              "    .dataframe tbody tr th {\n",
              "        vertical-align: top;\n",
              "    }\n",
              "\n",
              "    .dataframe thead th {\n",
              "        text-align: right;\n",
              "    }\n",
              "</style>\n",
              "<table border=\"1\" class=\"dataframe\">\n",
              "  <thead>\n",
              "    <tr style=\"text-align: right;\">\n",
              "      <th></th>\n",
              "      <th>date_local</th>\n",
              "      <th>state_name</th>\n",
              "      <th>county_name</th>\n",
              "      <th>city_name</th>\n",
              "      <th>local_site_name</th>\n",
              "      <th>parameter_name</th>\n",
              "      <th>units_of_measure</th>\n",
              "      <th>arithmetic_mean</th>\n",
              "      <th>aqi</th>\n",
              "    </tr>\n",
              "  </thead>\n",
              "  <tbody>\n",
              "    <tr>\n",
              "      <th>0</th>\n",
              "      <td>2018-01-01</td>\n",
              "      <td>Arizona</td>\n",
              "      <td>Maricopa</td>\n",
              "      <td>Buckeye</td>\n",
              "      <td>BUCKEYE</td>\n",
              "      <td>Carbon monoxide</td>\n",
              "      <td>Parts per million</td>\n",
              "      <td>0.473684</td>\n",
              "      <td>7</td>\n",
              "    </tr>\n",
              "    <tr>\n",
              "      <th>1</th>\n",
              "      <td>2018-01-01</td>\n",
              "      <td>Ohio</td>\n",
              "      <td>Belmont</td>\n",
              "      <td>Shadyside</td>\n",
              "      <td>Shadyside</td>\n",
              "      <td>Carbon monoxide</td>\n",
              "      <td>Parts per million</td>\n",
              "      <td>0.263158</td>\n",
              "      <td>5</td>\n",
              "    </tr>\n",
              "    <tr>\n",
              "      <th>2</th>\n",
              "      <td>2018-01-01</td>\n",
              "      <td>Wyoming</td>\n",
              "      <td>Teton</td>\n",
              "      <td>Not in a city</td>\n",
              "      <td>Yellowstone National Park - Old Faithful Snow ...</td>\n",
              "      <td>Carbon monoxide</td>\n",
              "      <td>Parts per million</td>\n",
              "      <td>0.111111</td>\n",
              "      <td>2</td>\n",
              "    </tr>\n",
              "    <tr>\n",
              "      <th>3</th>\n",
              "      <td>2018-01-01</td>\n",
              "      <td>Pennsylvania</td>\n",
              "      <td>Philadelphia</td>\n",
              "      <td>Philadelphia</td>\n",
              "      <td>North East Waste (NEW)</td>\n",
              "      <td>Carbon monoxide</td>\n",
              "      <td>Parts per million</td>\n",
              "      <td>0.300000</td>\n",
              "      <td>3</td>\n",
              "    </tr>\n",
              "    <tr>\n",
              "      <th>4</th>\n",
              "      <td>2018-01-01</td>\n",
              "      <td>Iowa</td>\n",
              "      <td>Polk</td>\n",
              "      <td>Des Moines</td>\n",
              "      <td>CARPENTER</td>\n",
              "      <td>Carbon monoxide</td>\n",
              "      <td>Parts per million</td>\n",
              "      <td>0.215789</td>\n",
              "      <td>3</td>\n",
              "    </tr>\n",
              "    <tr>\n",
              "      <th>5</th>\n",
              "      <td>2018-01-01</td>\n",
              "      <td>Hawaii</td>\n",
              "      <td>Honolulu</td>\n",
              "      <td>Not in a city</td>\n",
              "      <td>Kapolei</td>\n",
              "      <td>Carbon monoxide</td>\n",
              "      <td>Parts per million</td>\n",
              "      <td>0.994737</td>\n",
              "      <td>14</td>\n",
              "    </tr>\n",
              "    <tr>\n",
              "      <th>6</th>\n",
              "      <td>2018-01-01</td>\n",
              "      <td>Hawaii</td>\n",
              "      <td>Honolulu</td>\n",
              "      <td>Not in a city</td>\n",
              "      <td>Kapolei</td>\n",
              "      <td>Carbon monoxide</td>\n",
              "      <td>Parts per million</td>\n",
              "      <td>0.200000</td>\n",
              "      <td>2</td>\n",
              "    </tr>\n",
              "    <tr>\n",
              "      <th>7</th>\n",
              "      <td>2018-01-01</td>\n",
              "      <td>Pennsylvania</td>\n",
              "      <td>Erie</td>\n",
              "      <td>Erie</td>\n",
              "      <td>NaN</td>\n",
              "      <td>Carbon monoxide</td>\n",
              "      <td>Parts per million</td>\n",
              "      <td>0.200000</td>\n",
              "      <td>2</td>\n",
              "    </tr>\n",
              "    <tr>\n",
              "      <th>8</th>\n",
              "      <td>2018-01-01</td>\n",
              "      <td>Hawaii</td>\n",
              "      <td>Honolulu</td>\n",
              "      <td>Honolulu</td>\n",
              "      <td>Honolulu</td>\n",
              "      <td>Carbon monoxide</td>\n",
              "      <td>Parts per million</td>\n",
              "      <td>0.400000</td>\n",
              "      <td>5</td>\n",
              "    </tr>\n",
              "    <tr>\n",
              "      <th>9</th>\n",
              "      <td>2018-01-01</td>\n",
              "      <td>Colorado</td>\n",
              "      <td>Larimer</td>\n",
              "      <td>Fort Collins</td>\n",
              "      <td>Fort Collins - CSU - S. Mason</td>\n",
              "      <td>Carbon monoxide</td>\n",
              "      <td>Parts per million</td>\n",
              "      <td>0.300000</td>\n",
              "      <td>6</td>\n",
              "    </tr>\n",
              "  </tbody>\n",
              "</table>\n",
              "</div>\n",
              "    <div class=\"colab-df-buttons\">\n",
              "\n",
              "  <div class=\"colab-df-container\">\n",
              "    <button class=\"colab-df-convert\" onclick=\"convertToInteractive('df-4ac59daf-63cc-4d6b-824f-a1e67b37538c')\"\n",
              "            title=\"Convert this dataframe to an interactive table.\"\n",
              "            style=\"display:none;\">\n",
              "\n",
              "  <svg xmlns=\"http://www.w3.org/2000/svg\" height=\"24px\" viewBox=\"0 -960 960 960\">\n",
              "    <path d=\"M120-120v-720h720v720H120Zm60-500h600v-160H180v160Zm220 220h160v-160H400v160Zm0 220h160v-160H400v160ZM180-400h160v-160H180v160Zm440 0h160v-160H620v160ZM180-180h160v-160H180v160Zm440 0h160v-160H620v160Z\"/>\n",
              "  </svg>\n",
              "    </button>\n",
              "\n",
              "  <style>\n",
              "    .colab-df-container {\n",
              "      display:flex;\n",
              "      gap: 12px;\n",
              "    }\n",
              "\n",
              "    .colab-df-convert {\n",
              "      background-color: #E8F0FE;\n",
              "      border: none;\n",
              "      border-radius: 50%;\n",
              "      cursor: pointer;\n",
              "      display: none;\n",
              "      fill: #1967D2;\n",
              "      height: 32px;\n",
              "      padding: 0 0 0 0;\n",
              "      width: 32px;\n",
              "    }\n",
              "\n",
              "    .colab-df-convert:hover {\n",
              "      background-color: #E2EBFA;\n",
              "      box-shadow: 0px 1px 2px rgba(60, 64, 67, 0.3), 0px 1px 3px 1px rgba(60, 64, 67, 0.15);\n",
              "      fill: #174EA6;\n",
              "    }\n",
              "\n",
              "    .colab-df-buttons div {\n",
              "      margin-bottom: 4px;\n",
              "    }\n",
              "\n",
              "    [theme=dark] .colab-df-convert {\n",
              "      background-color: #3B4455;\n",
              "      fill: #D2E3FC;\n",
              "    }\n",
              "\n",
              "    [theme=dark] .colab-df-convert:hover {\n",
              "      background-color: #434B5C;\n",
              "      box-shadow: 0px 1px 3px 1px rgba(0, 0, 0, 0.15);\n",
              "      filter: drop-shadow(0px 1px 2px rgba(0, 0, 0, 0.3));\n",
              "      fill: #FFFFFF;\n",
              "    }\n",
              "  </style>\n",
              "\n",
              "    <script>\n",
              "      const buttonEl =\n",
              "        document.querySelector('#df-4ac59daf-63cc-4d6b-824f-a1e67b37538c button.colab-df-convert');\n",
              "      buttonEl.style.display =\n",
              "        google.colab.kernel.accessAllowed ? 'block' : 'none';\n",
              "\n",
              "      async function convertToInteractive(key) {\n",
              "        const element = document.querySelector('#df-4ac59daf-63cc-4d6b-824f-a1e67b37538c');\n",
              "        const dataTable =\n",
              "          await google.colab.kernel.invokeFunction('convertToInteractive',\n",
              "                                                    [key], {});\n",
              "        if (!dataTable) return;\n",
              "\n",
              "        const docLinkHtml = 'Like what you see? Visit the ' +\n",
              "          '<a target=\"_blank\" href=https://colab.research.google.com/notebooks/data_table.ipynb>data table notebook</a>'\n",
              "          + ' to learn more about interactive tables.';\n",
              "        element.innerHTML = '';\n",
              "        dataTable['output_type'] = 'display_data';\n",
              "        await google.colab.output.renderOutput(dataTable, element);\n",
              "        const docLink = document.createElement('div');\n",
              "        docLink.innerHTML = docLinkHtml;\n",
              "        element.appendChild(docLink);\n",
              "      }\n",
              "    </script>\n",
              "  </div>\n",
              "\n",
              "\n",
              "<div id=\"df-3055add1-8498-4bca-ace3-3f4a2dd38a7d\">\n",
              "  <button class=\"colab-df-quickchart\" onclick=\"quickchart('df-3055add1-8498-4bca-ace3-3f4a2dd38a7d')\"\n",
              "            title=\"Suggest charts\"\n",
              "            style=\"display:none;\">\n",
              "\n",
              "<svg xmlns=\"http://www.w3.org/2000/svg\" height=\"24px\"viewBox=\"0 0 24 24\"\n",
              "     width=\"24px\">\n",
              "    <g>\n",
              "        <path d=\"M19 3H5c-1.1 0-2 .9-2 2v14c0 1.1.9 2 2 2h14c1.1 0 2-.9 2-2V5c0-1.1-.9-2-2-2zM9 17H7v-7h2v7zm4 0h-2V7h2v10zm4 0h-2v-4h2v4z\"/>\n",
              "    </g>\n",
              "</svg>\n",
              "  </button>\n",
              "\n",
              "<style>\n",
              "  .colab-df-quickchart {\n",
              "      --bg-color: #E8F0FE;\n",
              "      --fill-color: #1967D2;\n",
              "      --hover-bg-color: #E2EBFA;\n",
              "      --hover-fill-color: #174EA6;\n",
              "      --disabled-fill-color: #AAA;\n",
              "      --disabled-bg-color: #DDD;\n",
              "  }\n",
              "\n",
              "  [theme=dark] .colab-df-quickchart {\n",
              "      --bg-color: #3B4455;\n",
              "      --fill-color: #D2E3FC;\n",
              "      --hover-bg-color: #434B5C;\n",
              "      --hover-fill-color: #FFFFFF;\n",
              "      --disabled-bg-color: #3B4455;\n",
              "      --disabled-fill-color: #666;\n",
              "  }\n",
              "\n",
              "  .colab-df-quickchart {\n",
              "    background-color: var(--bg-color);\n",
              "    border: none;\n",
              "    border-radius: 50%;\n",
              "    cursor: pointer;\n",
              "    display: none;\n",
              "    fill: var(--fill-color);\n",
              "    height: 32px;\n",
              "    padding: 0;\n",
              "    width: 32px;\n",
              "  }\n",
              "\n",
              "  .colab-df-quickchart:hover {\n",
              "    background-color: var(--hover-bg-color);\n",
              "    box-shadow: 0 1px 2px rgba(60, 64, 67, 0.3), 0 1px 3px 1px rgba(60, 64, 67, 0.15);\n",
              "    fill: var(--button-hover-fill-color);\n",
              "  }\n",
              "\n",
              "  .colab-df-quickchart-complete:disabled,\n",
              "  .colab-df-quickchart-complete:disabled:hover {\n",
              "    background-color: var(--disabled-bg-color);\n",
              "    fill: var(--disabled-fill-color);\n",
              "    box-shadow: none;\n",
              "  }\n",
              "\n",
              "  .colab-df-spinner {\n",
              "    border: 2px solid var(--fill-color);\n",
              "    border-color: transparent;\n",
              "    border-bottom-color: var(--fill-color);\n",
              "    animation:\n",
              "      spin 1s steps(1) infinite;\n",
              "  }\n",
              "\n",
              "  @keyframes spin {\n",
              "    0% {\n",
              "      border-color: transparent;\n",
              "      border-bottom-color: var(--fill-color);\n",
              "      border-left-color: var(--fill-color);\n",
              "    }\n",
              "    20% {\n",
              "      border-color: transparent;\n",
              "      border-left-color: var(--fill-color);\n",
              "      border-top-color: var(--fill-color);\n",
              "    }\n",
              "    30% {\n",
              "      border-color: transparent;\n",
              "      border-left-color: var(--fill-color);\n",
              "      border-top-color: var(--fill-color);\n",
              "      border-right-color: var(--fill-color);\n",
              "    }\n",
              "    40% {\n",
              "      border-color: transparent;\n",
              "      border-right-color: var(--fill-color);\n",
              "      border-top-color: var(--fill-color);\n",
              "    }\n",
              "    60% {\n",
              "      border-color: transparent;\n",
              "      border-right-color: var(--fill-color);\n",
              "    }\n",
              "    80% {\n",
              "      border-color: transparent;\n",
              "      border-right-color: var(--fill-color);\n",
              "      border-bottom-color: var(--fill-color);\n",
              "    }\n",
              "    90% {\n",
              "      border-color: transparent;\n",
              "      border-bottom-color: var(--fill-color);\n",
              "    }\n",
              "  }\n",
              "</style>\n",
              "\n",
              "  <script>\n",
              "    async function quickchart(key) {\n",
              "      const quickchartButtonEl =\n",
              "        document.querySelector('#' + key + ' button');\n",
              "      quickchartButtonEl.disabled = true;  // To prevent multiple clicks.\n",
              "      quickchartButtonEl.classList.add('colab-df-spinner');\n",
              "      try {\n",
              "        const charts = await google.colab.kernel.invokeFunction(\n",
              "            'suggestCharts', [key], {});\n",
              "      } catch (error) {\n",
              "        console.error('Error during call to suggestCharts:', error);\n",
              "      }\n",
              "      quickchartButtonEl.classList.remove('colab-df-spinner');\n",
              "      quickchartButtonEl.classList.add('colab-df-quickchart-complete');\n",
              "    }\n",
              "    (() => {\n",
              "      let quickchartButtonEl =\n",
              "        document.querySelector('#df-3055add1-8498-4bca-ace3-3f4a2dd38a7d button');\n",
              "      quickchartButtonEl.style.display =\n",
              "        google.colab.kernel.accessAllowed ? 'block' : 'none';\n",
              "    })();\n",
              "  </script>\n",
              "</div>\n",
              "\n",
              "    </div>\n",
              "  </div>\n"
            ],
            "application/vnd.google.colaboratory.intrinsic+json": {
              "type": "dataframe",
              "variable_name": "epa_data",
              "summary": "{\n  \"name\": \"epa_data\",\n  \"rows\": 260,\n  \"fields\": [\n    {\n      \"column\": \"date_local\",\n      \"properties\": {\n        \"dtype\": \"object\",\n        \"num_unique_values\": 1,\n        \"samples\": [\n          \"2018-01-01\"\n        ],\n        \"semantic_type\": \"\",\n        \"description\": \"\"\n      }\n    },\n    {\n      \"column\": \"state_name\",\n      \"properties\": {\n        \"dtype\": \"category\",\n        \"num_unique_values\": 52,\n        \"samples\": [\n          \"New Jersey\"\n        ],\n        \"semantic_type\": \"\",\n        \"description\": \"\"\n      }\n    },\n    {\n      \"column\": \"county_name\",\n      \"properties\": {\n        \"dtype\": \"string\",\n        \"num_unique_values\": 149,\n        \"samples\": [\n          \"El Paso\"\n        ],\n        \"semantic_type\": \"\",\n        \"description\": \"\"\n      }\n    },\n    {\n      \"column\": \"city_name\",\n      \"properties\": {\n        \"dtype\": \"string\",\n        \"num_unique_values\": 190,\n        \"samples\": [\n          \"Valrico\"\n        ],\n        \"semantic_type\": \"\",\n        \"description\": \"\"\n      }\n    },\n    {\n      \"column\": \"local_site_name\",\n      \"properties\": {\n        \"dtype\": \"string\",\n        \"num_unique_values\": 253,\n        \"samples\": [\n          \"Los Flores Canyon #1\"\n        ],\n        \"semantic_type\": \"\",\n        \"description\": \"\"\n      }\n    },\n    {\n      \"column\": \"parameter_name\",\n      \"properties\": {\n        \"dtype\": \"category\",\n        \"num_unique_values\": 1,\n        \"samples\": [\n          \"Carbon monoxide\"\n        ],\n        \"semantic_type\": \"\",\n        \"description\": \"\"\n      }\n    },\n    {\n      \"column\": \"units_of_measure\",\n      \"properties\": {\n        \"dtype\": \"category\",\n        \"num_unique_values\": 1,\n        \"samples\": [\n          \"Parts per million\"\n        ],\n        \"semantic_type\": \"\",\n        \"description\": \"\"\n      }\n    },\n    {\n      \"column\": \"arithmetic_mean\",\n      \"properties\": {\n        \"dtype\": \"number\",\n        \"std\": 0.3179017834023352,\n        \"min\": 0.0,\n        \"max\": 1.921053,\n        \"num_unique_values\": 150,\n        \"samples\": [\n          0.131579\n        ],\n        \"semantic_type\": \"\",\n        \"description\": \"\"\n      }\n    },\n    {\n      \"column\": \"aqi\",\n      \"properties\": {\n        \"dtype\": \"number\",\n        \"std\": 7,\n        \"min\": 0,\n        \"max\": 50,\n        \"num_unique_values\": 29,\n        \"samples\": [\n          28\n        ],\n        \"semantic_type\": \"\",\n        \"description\": \"\"\n      }\n    }\n  ]\n}"
            }
          },
          "metadata": {},
          "execution_count": 4
        }
      ],
      "source": [
        "# Display first 10 rows of the data.\n",
        "\n",
        "epa_data.head(10)"
      ],
      "id": "ad5210a5-7a64-4991-b004-de818cfaf506"
    },
    {
      "cell_type": "markdown",
      "metadata": {
        "id": "fb45ed17-5e22-4d48-9750-130a8586bbf9",
        "tags": []
      },
      "source": [
        "\n",
        "The `aqi` column represents the EPA's Air Quality Index (AQI)."
      ],
      "id": "fb45ed17-5e22-4d48-9750-130a8586bbf9"
    },
    {
      "cell_type": "markdown",
      "metadata": {
        "id": "7dac147e-19e1-49e7-bd80-e122390c3a70",
        "tags": []
      },
      "source": [
        "Constructing a table that contains some descriptive statistics about the data."
      ],
      "id": "7dac147e-19e1-49e7-bd80-e122390c3a70"
    },
    {
      "cell_type": "code",
      "execution_count": 5,
      "metadata": {
        "colab": {
          "base_uri": "https://localhost:8080/",
          "height": 300
        },
        "id": "13f1c1dd-5637-4726-8fa0-2fbd838e4afa",
        "outputId": "6fb3ccfc-99dc-441c-9350-a1a31bc8ed2e"
      },
      "outputs": [
        {
          "output_type": "execute_result",
          "data": {
            "text/plain": [
              "       arithmetic_mean         aqi\n",
              "count       260.000000  260.000000\n",
              "mean          0.403169    6.757692\n",
              "std           0.317902    7.061707\n",
              "min           0.000000    0.000000\n",
              "25%           0.200000    2.000000\n",
              "50%           0.276315    5.000000\n",
              "75%           0.516009    9.000000\n",
              "max           1.921053   50.000000"
            ],
            "text/html": [
              "\n",
              "  <div id=\"df-97f01784-22e5-4bb0-b651-af65d9960f3b\" class=\"colab-df-container\">\n",
              "    <div>\n",
              "<style scoped>\n",
              "    .dataframe tbody tr th:only-of-type {\n",
              "        vertical-align: middle;\n",
              "    }\n",
              "\n",
              "    .dataframe tbody tr th {\n",
              "        vertical-align: top;\n",
              "    }\n",
              "\n",
              "    .dataframe thead th {\n",
              "        text-align: right;\n",
              "    }\n",
              "</style>\n",
              "<table border=\"1\" class=\"dataframe\">\n",
              "  <thead>\n",
              "    <tr style=\"text-align: right;\">\n",
              "      <th></th>\n",
              "      <th>arithmetic_mean</th>\n",
              "      <th>aqi</th>\n",
              "    </tr>\n",
              "  </thead>\n",
              "  <tbody>\n",
              "    <tr>\n",
              "      <th>count</th>\n",
              "      <td>260.000000</td>\n",
              "      <td>260.000000</td>\n",
              "    </tr>\n",
              "    <tr>\n",
              "      <th>mean</th>\n",
              "      <td>0.403169</td>\n",
              "      <td>6.757692</td>\n",
              "    </tr>\n",
              "    <tr>\n",
              "      <th>std</th>\n",
              "      <td>0.317902</td>\n",
              "      <td>7.061707</td>\n",
              "    </tr>\n",
              "    <tr>\n",
              "      <th>min</th>\n",
              "      <td>0.000000</td>\n",
              "      <td>0.000000</td>\n",
              "    </tr>\n",
              "    <tr>\n",
              "      <th>25%</th>\n",
              "      <td>0.200000</td>\n",
              "      <td>2.000000</td>\n",
              "    </tr>\n",
              "    <tr>\n",
              "      <th>50%</th>\n",
              "      <td>0.276315</td>\n",
              "      <td>5.000000</td>\n",
              "    </tr>\n",
              "    <tr>\n",
              "      <th>75%</th>\n",
              "      <td>0.516009</td>\n",
              "      <td>9.000000</td>\n",
              "    </tr>\n",
              "    <tr>\n",
              "      <th>max</th>\n",
              "      <td>1.921053</td>\n",
              "      <td>50.000000</td>\n",
              "    </tr>\n",
              "  </tbody>\n",
              "</table>\n",
              "</div>\n",
              "    <div class=\"colab-df-buttons\">\n",
              "\n",
              "  <div class=\"colab-df-container\">\n",
              "    <button class=\"colab-df-convert\" onclick=\"convertToInteractive('df-97f01784-22e5-4bb0-b651-af65d9960f3b')\"\n",
              "            title=\"Convert this dataframe to an interactive table.\"\n",
              "            style=\"display:none;\">\n",
              "\n",
              "  <svg xmlns=\"http://www.w3.org/2000/svg\" height=\"24px\" viewBox=\"0 -960 960 960\">\n",
              "    <path d=\"M120-120v-720h720v720H120Zm60-500h600v-160H180v160Zm220 220h160v-160H400v160Zm0 220h160v-160H400v160ZM180-400h160v-160H180v160Zm440 0h160v-160H620v160ZM180-180h160v-160H180v160Zm440 0h160v-160H620v160Z\"/>\n",
              "  </svg>\n",
              "    </button>\n",
              "\n",
              "  <style>\n",
              "    .colab-df-container {\n",
              "      display:flex;\n",
              "      gap: 12px;\n",
              "    }\n",
              "\n",
              "    .colab-df-convert {\n",
              "      background-color: #E8F0FE;\n",
              "      border: none;\n",
              "      border-radius: 50%;\n",
              "      cursor: pointer;\n",
              "      display: none;\n",
              "      fill: #1967D2;\n",
              "      height: 32px;\n",
              "      padding: 0 0 0 0;\n",
              "      width: 32px;\n",
              "    }\n",
              "\n",
              "    .colab-df-convert:hover {\n",
              "      background-color: #E2EBFA;\n",
              "      box-shadow: 0px 1px 2px rgba(60, 64, 67, 0.3), 0px 1px 3px 1px rgba(60, 64, 67, 0.15);\n",
              "      fill: #174EA6;\n",
              "    }\n",
              "\n",
              "    .colab-df-buttons div {\n",
              "      margin-bottom: 4px;\n",
              "    }\n",
              "\n",
              "    [theme=dark] .colab-df-convert {\n",
              "      background-color: #3B4455;\n",
              "      fill: #D2E3FC;\n",
              "    }\n",
              "\n",
              "    [theme=dark] .colab-df-convert:hover {\n",
              "      background-color: #434B5C;\n",
              "      box-shadow: 0px 1px 3px 1px rgba(0, 0, 0, 0.15);\n",
              "      filter: drop-shadow(0px 1px 2px rgba(0, 0, 0, 0.3));\n",
              "      fill: #FFFFFF;\n",
              "    }\n",
              "  </style>\n",
              "\n",
              "    <script>\n",
              "      const buttonEl =\n",
              "        document.querySelector('#df-97f01784-22e5-4bb0-b651-af65d9960f3b button.colab-df-convert');\n",
              "      buttonEl.style.display =\n",
              "        google.colab.kernel.accessAllowed ? 'block' : 'none';\n",
              "\n",
              "      async function convertToInteractive(key) {\n",
              "        const element = document.querySelector('#df-97f01784-22e5-4bb0-b651-af65d9960f3b');\n",
              "        const dataTable =\n",
              "          await google.colab.kernel.invokeFunction('convertToInteractive',\n",
              "                                                    [key], {});\n",
              "        if (!dataTable) return;\n",
              "\n",
              "        const docLinkHtml = 'Like what you see? Visit the ' +\n",
              "          '<a target=\"_blank\" href=https://colab.research.google.com/notebooks/data_table.ipynb>data table notebook</a>'\n",
              "          + ' to learn more about interactive tables.';\n",
              "        element.innerHTML = '';\n",
              "        dataTable['output_type'] = 'display_data';\n",
              "        await google.colab.output.renderOutput(dataTable, element);\n",
              "        const docLink = document.createElement('div');\n",
              "        docLink.innerHTML = docLinkHtml;\n",
              "        element.appendChild(docLink);\n",
              "      }\n",
              "    </script>\n",
              "  </div>\n",
              "\n",
              "\n",
              "<div id=\"df-bd3af343-9815-49b4-9fca-5670c54bd3a1\">\n",
              "  <button class=\"colab-df-quickchart\" onclick=\"quickchart('df-bd3af343-9815-49b4-9fca-5670c54bd3a1')\"\n",
              "            title=\"Suggest charts\"\n",
              "            style=\"display:none;\">\n",
              "\n",
              "<svg xmlns=\"http://www.w3.org/2000/svg\" height=\"24px\"viewBox=\"0 0 24 24\"\n",
              "     width=\"24px\">\n",
              "    <g>\n",
              "        <path d=\"M19 3H5c-1.1 0-2 .9-2 2v14c0 1.1.9 2 2 2h14c1.1 0 2-.9 2-2V5c0-1.1-.9-2-2-2zM9 17H7v-7h2v7zm4 0h-2V7h2v10zm4 0h-2v-4h2v4z\"/>\n",
              "    </g>\n",
              "</svg>\n",
              "  </button>\n",
              "\n",
              "<style>\n",
              "  .colab-df-quickchart {\n",
              "      --bg-color: #E8F0FE;\n",
              "      --fill-color: #1967D2;\n",
              "      --hover-bg-color: #E2EBFA;\n",
              "      --hover-fill-color: #174EA6;\n",
              "      --disabled-fill-color: #AAA;\n",
              "      --disabled-bg-color: #DDD;\n",
              "  }\n",
              "\n",
              "  [theme=dark] .colab-df-quickchart {\n",
              "      --bg-color: #3B4455;\n",
              "      --fill-color: #D2E3FC;\n",
              "      --hover-bg-color: #434B5C;\n",
              "      --hover-fill-color: #FFFFFF;\n",
              "      --disabled-bg-color: #3B4455;\n",
              "      --disabled-fill-color: #666;\n",
              "  }\n",
              "\n",
              "  .colab-df-quickchart {\n",
              "    background-color: var(--bg-color);\n",
              "    border: none;\n",
              "    border-radius: 50%;\n",
              "    cursor: pointer;\n",
              "    display: none;\n",
              "    fill: var(--fill-color);\n",
              "    height: 32px;\n",
              "    padding: 0;\n",
              "    width: 32px;\n",
              "  }\n",
              "\n",
              "  .colab-df-quickchart:hover {\n",
              "    background-color: var(--hover-bg-color);\n",
              "    box-shadow: 0 1px 2px rgba(60, 64, 67, 0.3), 0 1px 3px 1px rgba(60, 64, 67, 0.15);\n",
              "    fill: var(--button-hover-fill-color);\n",
              "  }\n",
              "\n",
              "  .colab-df-quickchart-complete:disabled,\n",
              "  .colab-df-quickchart-complete:disabled:hover {\n",
              "    background-color: var(--disabled-bg-color);\n",
              "    fill: var(--disabled-fill-color);\n",
              "    box-shadow: none;\n",
              "  }\n",
              "\n",
              "  .colab-df-spinner {\n",
              "    border: 2px solid var(--fill-color);\n",
              "    border-color: transparent;\n",
              "    border-bottom-color: var(--fill-color);\n",
              "    animation:\n",
              "      spin 1s steps(1) infinite;\n",
              "  }\n",
              "\n",
              "  @keyframes spin {\n",
              "    0% {\n",
              "      border-color: transparent;\n",
              "      border-bottom-color: var(--fill-color);\n",
              "      border-left-color: var(--fill-color);\n",
              "    }\n",
              "    20% {\n",
              "      border-color: transparent;\n",
              "      border-left-color: var(--fill-color);\n",
              "      border-top-color: var(--fill-color);\n",
              "    }\n",
              "    30% {\n",
              "      border-color: transparent;\n",
              "      border-left-color: var(--fill-color);\n",
              "      border-top-color: var(--fill-color);\n",
              "      border-right-color: var(--fill-color);\n",
              "    }\n",
              "    40% {\n",
              "      border-color: transparent;\n",
              "      border-right-color: var(--fill-color);\n",
              "      border-top-color: var(--fill-color);\n",
              "    }\n",
              "    60% {\n",
              "      border-color: transparent;\n",
              "      border-right-color: var(--fill-color);\n",
              "    }\n",
              "    80% {\n",
              "      border-color: transparent;\n",
              "      border-right-color: var(--fill-color);\n",
              "      border-bottom-color: var(--fill-color);\n",
              "    }\n",
              "    90% {\n",
              "      border-color: transparent;\n",
              "      border-bottom-color: var(--fill-color);\n",
              "    }\n",
              "  }\n",
              "</style>\n",
              "\n",
              "  <script>\n",
              "    async function quickchart(key) {\n",
              "      const quickchartButtonEl =\n",
              "        document.querySelector('#' + key + ' button');\n",
              "      quickchartButtonEl.disabled = true;  // To prevent multiple clicks.\n",
              "      quickchartButtonEl.classList.add('colab-df-spinner');\n",
              "      try {\n",
              "        const charts = await google.colab.kernel.invokeFunction(\n",
              "            'suggestCharts', [key], {});\n",
              "      } catch (error) {\n",
              "        console.error('Error during call to suggestCharts:', error);\n",
              "      }\n",
              "      quickchartButtonEl.classList.remove('colab-df-spinner');\n",
              "      quickchartButtonEl.classList.add('colab-df-quickchart-complete');\n",
              "    }\n",
              "    (() => {\n",
              "      let quickchartButtonEl =\n",
              "        document.querySelector('#df-bd3af343-9815-49b4-9fca-5670c54bd3a1 button');\n",
              "      quickchartButtonEl.style.display =\n",
              "        google.colab.kernel.accessAllowed ? 'block' : 'none';\n",
              "    })();\n",
              "  </script>\n",
              "</div>\n",
              "\n",
              "    </div>\n",
              "  </div>\n"
            ],
            "application/vnd.google.colaboratory.intrinsic+json": {
              "type": "dataframe",
              "summary": "{\n  \"name\": \"epa_data\",\n  \"rows\": 8,\n  \"fields\": [\n    {\n      \"column\": \"arithmetic_mean\",\n      \"properties\": {\n        \"dtype\": \"number\",\n        \"std\": 91.742221480465,\n        \"min\": 0.0,\n        \"max\": 260.0,\n        \"num_unique_values\": 8,\n        \"samples\": [\n          0.40316890769230773,\n          0.2763155,\n          260.0\n        ],\n        \"semantic_type\": \"\",\n        \"description\": \"\"\n      }\n    },\n    {\n      \"column\": \"aqi\",\n      \"properties\": {\n        \"dtype\": \"number\",\n        \"std\": 89.33954580747285,\n        \"min\": 0.0,\n        \"max\": 260.0,\n        \"num_unique_values\": 8,\n        \"samples\": [\n          6.757692307692308,\n          5.0,\n          260.0\n        ],\n        \"semantic_type\": \"\",\n        \"description\": \"\"\n      }\n    }\n  ]\n}"
            }
          },
          "metadata": {},
          "execution_count": 5
        }
      ],
      "source": [
        "# Get descriptive stats\n",
        "\n",
        "epa_data.describe()"
      ],
      "id": "13f1c1dd-5637-4726-8fa0-2fbd838e4afa"
    },
    {
      "cell_type": "markdown",
      "metadata": {
        "id": "a70475eb-d3a6-42e4-8b71-a49b5a1aa0db"
      },
      "source": [
        "The count value for the `aqi` column is 260. This means there are 260 aqi measurements represented in this dataset."
      ],
      "id": "a70475eb-d3a6-42e4-8b71-a49b5a1aa0db"
    },
    {
      "cell_type": "markdown",
      "metadata": {
        "id": "c7a59d04-61f1-45e5-946f-eaed074988cf"
      },
      "source": [
        "The 25th percentile for the `aqi` column is 2. This means that 25% of the aqi values in the data are below 2."
      ],
      "id": "c7a59d04-61f1-45e5-946f-eaed074988cf"
    },
    {
      "cell_type": "markdown",
      "metadata": {
        "id": "245a9299-23ea-4def-b968-b26be1da3a74"
      },
      "source": [
        "\n",
        "The 75th percentile for the aqi column is 9. This means that 75% of the aqi values in the data are below 9."
      ],
      "id": "245a9299-23ea-4def-b968-b26be1da3a74"
    },
    {
      "cell_type": "markdown",
      "metadata": {
        "id": "ryoID3Yc7K6A"
      },
      "source": [
        "## **Statistical tests** ##"
      ],
      "id": "ryoID3Yc7K6A"
    },
    {
      "cell_type": "markdown",
      "metadata": {
        "id": "5464fa18-f969-4e1e-8539-9b2d9a11766d",
        "tags": []
      },
      "source": [
        "Some descriptive statistics about the states in the data."
      ],
      "id": "5464fa18-f969-4e1e-8539-9b2d9a11766d"
    },
    {
      "cell_type": "code",
      "execution_count": 6,
      "metadata": {
        "colab": {
          "base_uri": "https://localhost:8080/",
          "height": 209
        },
        "id": "678346a1-bc1a-40be-850a-c03488970604",
        "outputId": "1c6cdc6d-0a83-446c-c8a8-2cd17bc6f593"
      },
      "outputs": [
        {
          "output_type": "execute_result",
          "data": {
            "text/plain": [
              "count            260\n",
              "unique            52\n",
              "top       California\n",
              "freq              66\n",
              "Name: state_name, dtype: object"
            ],
            "text/html": [
              "<div>\n",
              "<style scoped>\n",
              "    .dataframe tbody tr th:only-of-type {\n",
              "        vertical-align: middle;\n",
              "    }\n",
              "\n",
              "    .dataframe tbody tr th {\n",
              "        vertical-align: top;\n",
              "    }\n",
              "\n",
              "    .dataframe thead th {\n",
              "        text-align: right;\n",
              "    }\n",
              "</style>\n",
              "<table border=\"1\" class=\"dataframe\">\n",
              "  <thead>\n",
              "    <tr style=\"text-align: right;\">\n",
              "      <th></th>\n",
              "      <th>state_name</th>\n",
              "    </tr>\n",
              "  </thead>\n",
              "  <tbody>\n",
              "    <tr>\n",
              "      <th>count</th>\n",
              "      <td>260</td>\n",
              "    </tr>\n",
              "    <tr>\n",
              "      <th>unique</th>\n",
              "      <td>52</td>\n",
              "    </tr>\n",
              "    <tr>\n",
              "      <th>top</th>\n",
              "      <td>California</td>\n",
              "    </tr>\n",
              "    <tr>\n",
              "      <th>freq</th>\n",
              "      <td>66</td>\n",
              "    </tr>\n",
              "  </tbody>\n",
              "</table>\n",
              "</div><br><label><b>dtype:</b> object</label>"
            ]
          },
          "metadata": {},
          "execution_count": 6
        }
      ],
      "source": [
        "# Get descriptive stats about the states in the data.\n",
        "\n",
        "epa_data[\"state_name\"].describe()"
      ],
      "id": "678346a1-bc1a-40be-850a-c03488970604"
    },
    {
      "cell_type": "markdown",
      "metadata": {
        "id": "d6f10268-bf06-471f-8e6e-41c30a8e3e2a",
        "tags": []
      },
      "source": [
        "\n",
        "\n",
        "There are 260 state values, and 52 of them are unique. California is the most commonly occurring state in the data, with a frequency of 66. (In other words, 66 entries in the data correspond to aqi measurements taken in California.)"
      ],
      "id": "d6f10268-bf06-471f-8e6e-41c30a8e3e2a"
    },
    {
      "cell_type": "markdown",
      "metadata": {
        "id": "GHeYdJvV8AG4"
      },
      "source": [
        "## **Results and evaluation**\n"
      ],
      "id": "GHeYdJvV8AG4"
    },
    {
      "cell_type": "markdown",
      "metadata": {
        "id": "8c37014f-2751-4f65-b145-c63aa3a82e9a",
        "tags": []
      },
      "source": [
        "Computing the mean value from the `aqi` column."
      ],
      "id": "8c37014f-2751-4f65-b145-c63aa3a82e9a"
    },
    {
      "cell_type": "code",
      "execution_count": 7,
      "metadata": {
        "colab": {
          "base_uri": "https://localhost:8080/"
        },
        "id": "df5f18bc-9d4b-4625-9b6f-01a6323b8b89",
        "outputId": "e80a46e3-10fd-4665-e9e2-fe1812978cde"
      },
      "outputs": [
        {
          "output_type": "execute_result",
          "data": {
            "text/plain": [
              "6.757692307692308"
            ]
          },
          "metadata": {},
          "execution_count": 7
        }
      ],
      "source": [
        "# Compute the mean value from the aqi column.\n",
        "np.mean(epa_data[\"aqi\"])"
      ],
      "id": "df5f18bc-9d4b-4625-9b6f-01a6323b8b89"
    },
    {
      "cell_type": "markdown",
      "metadata": {
        "id": "4552de4a-70d5-4862-bff8-e08b8a812d98"
      },
      "source": [
        "\n",
        "This is an important measure, as it tells about what the average air quality is based on the data.\n",
        "\n",
        "The mean value for the `aqi` column is approximately 6.76 (rounding to 2 decimal places here). This means that the average aqi from the data is approximately 6.76."
      ],
      "id": "4552de4a-70d5-4862-bff8-e08b8a812d98"
    },
    {
      "cell_type": "markdown",
      "metadata": {
        "id": "573d29cd-0ea9-4c96-80ea-c02144a155e9",
        "tags": []
      },
      "source": [
        "Computig the median value from the aqi column."
      ],
      "id": "573d29cd-0ea9-4c96-80ea-c02144a155e9"
    },
    {
      "cell_type": "code",
      "execution_count": 8,
      "metadata": {
        "id": "12da2095-441f-48f5-b8eb-1c7ae76edc9e",
        "outputId": "a04bf7a4-6a53-49fa-dc44-af529e1db217",
        "colab": {
          "base_uri": "https://localhost:8080/"
        }
      },
      "outputs": [
        {
          "output_type": "execute_result",
          "data": {
            "text/plain": [
              "5.0"
            ]
          },
          "metadata": {},
          "execution_count": 8
        }
      ],
      "source": [
        "# Compute the median value from the aqi column.\n",
        "\n",
        "np.median(epa_data[\"aqi\"])"
      ],
      "id": "12da2095-441f-48f5-b8eb-1c7ae76edc9e"
    },
    {
      "cell_type": "markdown",
      "metadata": {
        "id": "be75aa7d-a91c-4e3b-8eda-e2e3fe89c8d0"
      },
      "source": [
        "The median value is an important measure for understanding the central location of the data.\n",
        "\n",
        "The median value for the aqi column is 5.0. This means that half of the aqi values in the data are below 5."
      ],
      "id": "be75aa7d-a91c-4e3b-8eda-e2e3fe89c8d0"
    },
    {
      "cell_type": "markdown",
      "metadata": {
        "id": "4f8cdeda-be0c-4a18-9a33-0a16c91f08fc",
        "tags": []
      },
      "source": [
        "Identification of the minimum value from the `aqi` column."
      ],
      "id": "4f8cdeda-be0c-4a18-9a33-0a16c91f08fc"
    },
    {
      "cell_type": "code",
      "execution_count": 9,
      "metadata": {
        "colab": {
          "base_uri": "https://localhost:8080/"
        },
        "id": "bb3f1739-89aa-442a-8ddb-6c2d381243f3",
        "outputId": "6ad9d0fd-b0eb-4fc7-ff2f-9cdbc7ac09cd"
      },
      "outputs": [
        {
          "output_type": "execute_result",
          "data": {
            "text/plain": [
              "0"
            ]
          },
          "metadata": {},
          "execution_count": 9
        }
      ],
      "source": [
        "# Identify the minimum value from the aqi column.\n",
        "np.min(epa_data[\"aqi\"])"
      ],
      "id": "bb3f1739-89aa-442a-8ddb-6c2d381243f3"
    },
    {
      "cell_type": "markdown",
      "metadata": {
        "id": "59335267-2025-4013-92de-fec720576263"
      },
      "source": [
        "the minimum value from the aqi column is an important measure, as it tell about the best air quality observed in the data.\n",
        "\n",
        "The minimum value for the `aqi` column is 0. This means that the smallest aqi value in the data is 0."
      ],
      "id": "59335267-2025-4013-92de-fec720576263"
    },
    {
      "cell_type": "markdown",
      "metadata": {
        "id": "5864cf7b-af15-4cd9-8648-903c882e8e8f",
        "tags": []
      },
      "source": [
        "Identification of the maximum value from the `aqi` column."
      ],
      "id": "5864cf7b-af15-4cd9-8648-903c882e8e8f"
    },
    {
      "cell_type": "code",
      "execution_count": 11,
      "metadata": {
        "colab": {
          "base_uri": "https://localhost:8080/"
        },
        "id": "ce9670ac-1fb3-48d1-ac92-f04f73ef0e37",
        "outputId": "54f38e1e-2c2b-464a-ef80-2bf34a13fc7b"
      },
      "outputs": [
        {
          "output_type": "execute_result",
          "data": {
            "text/plain": [
              "50"
            ]
          },
          "metadata": {},
          "execution_count": 11
        }
      ],
      "source": [
        "# Identify the maximum value from the aqi column\n",
        "\n",
        "np.max(epa_data[\"aqi\"])"
      ],
      "id": "ce9670ac-1fb3-48d1-ac92-f04f73ef0e37"
    },
    {
      "cell_type": "markdown",
      "metadata": {
        "id": "b66e1d7d-a90e-4aff-b8da-3725c4f15c26"
      },
      "source": [
        "The maximum value from the `aqi` column is an important measure, as it tells about which value in the data corresponds to the worst air quality observed in the data.\n",
        "\n",
        "The maximum value for the `aqi` column is 50. This means that the largest aqi value in the data is 50."
      ],
      "id": "b66e1d7d-a90e-4aff-b8da-3725c4f15c26"
    },
    {
      "cell_type": "markdown",
      "metadata": {
        "id": "0f2b502c-55bd-4567-b602-129d5b682ea4",
        "tags": []
      },
      "source": [
        "Computing the standard deviation for the `aqi` column.\n",
        "\n",
        "By default, the `numpy` library uses 0 as the Delta Degrees of Freedom, while `pandas` library uses 1. To get the same value for standard deviation using either library, specify the `ddof` parameter to 1 when calculating standard deviation."
      ],
      "id": "0f2b502c-55bd-4567-b602-129d5b682ea4"
    },
    {
      "cell_type": "code",
      "execution_count": 12,
      "metadata": {
        "colab": {
          "base_uri": "https://localhost:8080/"
        },
        "id": "4caba3ad-6e7c-416a-a062-39a6af9f1f00",
        "outputId": "0328d357-c2df-4873-81b4-d382dd0d927d"
      },
      "outputs": [
        {
          "output_type": "execute_result",
          "data": {
            "text/plain": [
              "7.061706678820724"
            ]
          },
          "metadata": {},
          "execution_count": 12
        }
      ],
      "source": [
        "# Compute the standard deviation for the aqi column.\n",
        "\n",
        "np.std(epa_data[\"aqi\"], ddof=1)"
      ],
      "id": "4caba3ad-6e7c-416a-a062-39a6af9f1f00"
    },
    {
      "cell_type": "markdown",
      "metadata": {
        "id": "890f18c1-97cc-4e92-8860-1e4ce3213e2e"
      },
      "source": [
        "The standard deviation for the `aqi` column is an important measure of how spread out the aqi values are.\n",
        "\n",
        "The standard deviation for the aqi column is approximately 7.05 (rounding to 2 decimal places here). This is a measure of how spread out the aqi values are in the data."
      ],
      "id": "890f18c1-97cc-4e92-8860-1e4ce3213e2e"
    },
    {
      "cell_type": "markdown",
      "metadata": {
        "id": "c77e7f0f-d2b9-4464-8a7c-9575d1e1ef9f"
      },
      "source": [
        "## **Discussion**\n",
        "\n",
        "**Some key takeaways that I learned :**<br>\n",
        "Functions in the `pandas` and `numpy` libraries can be used to find statistics that describe a dataset. The `describe()` function from `pandas` generates a table of descriptive statistics about numerical or categorical columns. The `mean()`, `median()`, `min()`, `max()`, and `std()` functions from `numpy` are useful for finding individual statistics about numerical data.\n",
        "\n",
        "**My findings with relavent points consideration**\n",
        "- \"AQI values at or below 100 are generally thought of as satisfactory. When AQI values are above 100, air quality is considered to be unhealthy—at first for certain sensitive groups of people, then for everyone as AQI values increase.\"\n",
        "- \"An AQI of 100 for carbon monoxide corresponds to a level of 9.4 parts per million.\"\n",
        "\n",
        "The average AQI value in the data is approximately 6.76, which is considered safe with respect to carbon monoxide. Further, 75% of the AQI values are below 9.\n",
        "\n",
        "**Summary of information provided previously**\n",
        "\n",
        "- 75% of the AQI values in the data are below 9, which is considered good air quality.\n",
        "- Funding should be allocated for further investigation of the less healthy regions in order to learn how to improve the conditions.\n"
      ],
      "id": "c77e7f0f-d2b9-4464-8a7c-9575d1e1ef9f"
    },
    {
      "cell_type": "markdown",
      "metadata": {
        "id": "OPcCpjDLuHaW"
      },
      "source": [
        "**References**\n",
        "\n",
        "[Air Quality Index - A Guide to Air Quality and Your Health](https://www.airnow.gov/sites/default/files/2018-04/aqi_brochure_02_14_0.pdf). (2014,February)\n",
        "\n",
        "[Numpy.Std — NumPy v1.23 Manual](https://numpy.org/doc/stable/reference/generated/numpy.std.html)\n",
        "\n",
        "US EPA, OAR. (2014, 8 July).[*Air Data: Air Quality Data Collected at Outdoor Monitors Across the US*](https://www.epa.gov/outdoor-air-quality-data)."
      ],
      "id": "OPcCpjDLuHaW"
    }
  ],
  "metadata": {
    "colab": {
      "collapsed_sections": [
        "fb45ed17-5e22-4d48-9750-130a8586bbf9",
        "a70475eb-d3a6-42e4-8b71-a49b5a1aa0db",
        "59335267-2025-4013-92de-fec720576263",
        "b66e1d7d-a90e-4aff-b8da-3725c4f15c26"
      ],
      "provenance": []
    },
    "kernelspec": {
      "display_name": "Python 3",
      "language": "python",
      "name": "python3"
    },
    "language_info": {
      "codemirror_mode": {
        "name": "ipython",
        "version": 3
      },
      "file_extension": ".py",
      "mimetype": "text/x-python",
      "name": "python",
      "nbconvert_exporter": "python",
      "pygments_lexer": "ipython3",
      "version": "3.7.6"
    },
    "toc-autonumbering": false,
    "toc-showtags": false
  },
  "nbformat": 4,
  "nbformat_minor": 5
}