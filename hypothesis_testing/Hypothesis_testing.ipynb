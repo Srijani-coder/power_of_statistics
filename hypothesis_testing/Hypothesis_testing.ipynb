{
  "cells": [
    {
      "cell_type": "markdown",
      "metadata": {
        "id": "d25eed62-5910-4d10-a976-c18c4f7d99f7"
      },
      "source": [
        "# hypothesis testing"
      ],
      "id": "d25eed62-5910-4d10-a976-c18c4f7d99f7"
    },
    {
      "cell_type": "markdown",
      "metadata": {
        "id": "b50579ec-09df-4bb1-ad5a-d28f4790ca16"
      },
      "source": [
        "## Introduction"
      ],
      "id": "b50579ec-09df-4bb1-ad5a-d28f4790ca16"
    },
    {
      "cell_type": "markdown",
      "metadata": {
        "id": "6a8992ac-22d5-41db-aa09-263b464950e0"
      },
      "source": [
        "This environmental think tank is called Repair Our Air (ROA). ROA is formulating policy recommendations to improve the air quality in America, using the Environmental Protection Agency's Air Quality Index (AQI) to guide their decision making. An AQI value close to 0 signals \"little to no\" public health concern, while higher values are associated with increased risk to public health.\n",
        "\n",
        "The assignment is  with leveraging AQI data to help them prioritize their strategy for improving air quality in America."
      ],
      "id": "6a8992ac-22d5-41db-aa09-263b464950e0"
    },
    {
      "cell_type": "markdown",
      "metadata": {
        "id": "6e4e3b8a-b5f9-4fe1-a824-0bd3aece693c"
      },
      "source": [
        "ROA is considering the following decisions. For each, construct a hypothesis test and an accompanying visualization, using  results of that test to make a recommendation:\n",
        "\n",
        "1. ROA is considering a metropolitan-focused approach. Within California, they want to know if the mean AQI in Los Angeles County is statistically different from the rest of California.\n",
        "2. With limited resources, ROA has to choose between New York and Ohio for their next regional office. Does New York have a lower AQI than Ohio?\n",
        "3. A new policy will affect those states with a mean AQI of 10 or greater. Would Michigan be affected by this new policy?\n",
        "\n",
        "**Notes:**\n",
        "1. For  analysis,  default significance is 5% level of significance.\n",
        "2. Throughout the lab, for two-sample t-tests, use Welch's t-test (i.e., setting the `equal_var` parameter to `False` in `scipy.stats.ttest_ind()`). This will account for the possibly unequal variances between the two groups in the comparison."
      ],
      "id": "6e4e3b8a-b5f9-4fe1-a824-0bd3aece693c"
    },
    {
      "cell_type": "markdown",
      "metadata": {
        "id": "3b4dc9a5-d724-4696-a704-57fefa9d5938"
      },
      "source": [
        "## Imports"
      ],
      "id": "3b4dc9a5-d724-4696-a704-57fefa9d5938"
    },
    {
      "cell_type": "markdown",
      "metadata": {
        "id": "3d28827d-9bb3-45c7-a969-c00f6feda0e2"
      },
      "source": [
        "#### Import Packages"
      ],
      "id": "3d28827d-9bb3-45c7-a969-c00f6feda0e2"
    },
    {
      "cell_type": "code",
      "execution_count": 1,
      "metadata": {
        "id": "0b3d0e1c-23b9-4491-82a5-ac1e4bd36f30"
      },
      "outputs": [],
      "source": [
        "# Import relevant packages\n",
        "import pandas as pd\n",
        "import numpy as np\n",
        "from scipy import stats"
      ],
      "id": "0b3d0e1c-23b9-4491-82a5-ac1e4bd36f30"
    },
    {
      "cell_type": "markdown",
      "metadata": {
        "id": "a4f7c0d0-027e-475a-bce5-ad96d059cd04"
      },
      "source": [
        "Assumption: This dataset is randomly sampled from a larger population."
      ],
      "id": "a4f7c0d0-027e-475a-bce5-ad96d059cd04"
    },
    {
      "cell_type": "markdown",
      "metadata": {
        "id": "4b765030-5f02-47d2-aa77-8ac5b2117cc1"
      },
      "source": [
        "#### Loading Dataset"
      ],
      "id": "4b765030-5f02-47d2-aa77-8ac5b2117cc1"
    },
    {
      "cell_type": "code",
      "execution_count": 3,
      "metadata": {
        "id": "1ce82ed7-cf32-4028-ac77-a377e7638458",
        "tags": []
      },
      "outputs": [],
      "source": [
        "# Use read_csv() to import\n",
        "aqi = pd.read_csv('/content/sample_data/c4_epa_air_quality.csv')"
      ],
      "id": "1ce82ed7-cf32-4028-ac77-a377e7638458"
    },
    {
      "cell_type": "markdown",
      "metadata": {
        "id": "ZDz9XgvMy0MD"
      },
      "source": [
        "## Data Exploration"
      ],
      "id": "ZDz9XgvMy0MD"
    },
    {
      "cell_type": "code",
      "execution_count": 4,
      "metadata": {
        "id": "0444122d-6fba-4051-8b09-b15392aacebf",
        "scrolled": false,
        "tags": [],
        "colab": {
          "base_uri": "https://localhost:8080/"
        },
        "outputId": "a53e277d-db64-4c20-d531-cd4bde667c59"
      },
      "outputs": [
        {
          "output_type": "stream",
          "name": "stdout",
          "text": [
            "Use head() to show a sample of data\n",
            "   Unnamed: 0  date_local    state_name   county_name      city_name  \\\n",
            "0           0  2018-01-01       Arizona      Maricopa        Buckeye   \n",
            "1           1  2018-01-01          Ohio       Belmont      Shadyside   \n",
            "2           2  2018-01-01       Wyoming         Teton  Not in a city   \n",
            "3           3  2018-01-01  Pennsylvania  Philadelphia   Philadelphia   \n",
            "4           4  2018-01-01          Iowa          Polk     Des Moines   \n",
            "\n",
            "                                     local_site_name   parameter_name  \\\n",
            "0                                            BUCKEYE  Carbon monoxide   \n",
            "1                                          Shadyside  Carbon monoxide   \n",
            "2  Yellowstone National Park - Old Faithful Snow ...  Carbon monoxide   \n",
            "3                             North East Waste (NEW)  Carbon monoxide   \n",
            "4                                          CARPENTER  Carbon monoxide   \n",
            "\n",
            "    units_of_measure  arithmetic_mean  aqi  \n",
            "0  Parts per million         0.473684    7  \n",
            "1  Parts per million         0.263158    5  \n",
            "2  Parts per million         0.111111    2  \n",
            "3  Parts per million         0.300000    3  \n",
            "4  Parts per million         0.215789    3  \n",
            "Use describe() to summarize AQI\n",
            "        Unnamed: 0  date_local  state_name  county_name      city_name  \\\n",
            "count   260.000000         260         260          260            260   \n",
            "unique         NaN           1          52          149            190   \n",
            "top            NaN  2018-01-01  California  Los Angeles  Not in a city   \n",
            "freq           NaN         260          66           14             21   \n",
            "mean    129.500000         NaN         NaN          NaN            NaN   \n",
            "std      75.199734         NaN         NaN          NaN            NaN   \n",
            "min       0.000000         NaN         NaN          NaN            NaN   \n",
            "25%      64.750000         NaN         NaN          NaN            NaN   \n",
            "50%     129.500000         NaN         NaN          NaN            NaN   \n",
            "75%     194.250000         NaN         NaN          NaN            NaN   \n",
            "max     259.000000         NaN         NaN          NaN            NaN   \n",
            "\n",
            "       local_site_name   parameter_name   units_of_measure  arithmetic_mean  \\\n",
            "count              257              260                260       260.000000   \n",
            "unique             253                1                  1              NaN   \n",
            "top            Kapolei  Carbon monoxide  Parts per million              NaN   \n",
            "freq                 2              260                260              NaN   \n",
            "mean               NaN              NaN                NaN         0.403169   \n",
            "std                NaN              NaN                NaN         0.317902   \n",
            "min                NaN              NaN                NaN         0.000000   \n",
            "25%                NaN              NaN                NaN         0.200000   \n",
            "50%                NaN              NaN                NaN         0.276315   \n",
            "75%                NaN              NaN                NaN         0.516009   \n",
            "max                NaN              NaN                NaN         1.921053   \n",
            "\n",
            "               aqi  \n",
            "count   260.000000  \n",
            "unique         NaN  \n",
            "top            NaN  \n",
            "freq           NaN  \n",
            "mean      6.757692  \n",
            "std       7.061707  \n",
            "min       0.000000  \n",
            "25%       2.000000  \n",
            "50%       5.000000  \n",
            "75%       9.000000  \n",
            "max      50.000000  \n",
            "For a more thorough examination of observations by state use values_counts()\n",
            "state_name\n",
            "California              66\n",
            "Arizona                 14\n",
            "Ohio                    12\n",
            "Florida                 12\n",
            "Texas                   10\n",
            "New York                10\n",
            "Pennsylvania            10\n",
            "Michigan                 9\n",
            "Colorado                 9\n",
            "Minnesota                7\n",
            "New Jersey               6\n",
            "Indiana                  5\n",
            "North Carolina           4\n",
            "Massachusetts            4\n",
            "Maryland                 4\n",
            "Oklahoma                 4\n",
            "Virginia                 4\n",
            "Nevada                   4\n",
            "Connecticut              4\n",
            "Kentucky                 3\n",
            "Missouri                 3\n",
            "Wyoming                  3\n",
            "Iowa                     3\n",
            "Hawaii                   3\n",
            "Utah                     3\n",
            "Vermont                  3\n",
            "Illinois                 3\n",
            "New Hampshire            2\n",
            "District Of Columbia     2\n",
            "New Mexico               2\n",
            "Montana                  2\n",
            "Oregon                   2\n",
            "Alaska                   2\n",
            "Georgia                  2\n",
            "Washington               2\n",
            "Idaho                    2\n",
            "Nebraska                 2\n",
            "Rhode Island             2\n",
            "Tennessee                2\n",
            "Maine                    2\n",
            "South Carolina           1\n",
            "Puerto Rico              1\n",
            "Arkansas                 1\n",
            "Kansas                   1\n",
            "Mississippi              1\n",
            "Alabama                  1\n",
            "Louisiana                1\n",
            "Delaware                 1\n",
            "South Dakota             1\n",
            "West Virginia            1\n",
            "North Dakota             1\n",
            "Wisconsin                1\n",
            "Name: count, dtype: int64\n",
            "for a more\n"
          ]
        }
      ],
      "source": [
        "# Explore dataframe `aqi` here:\n",
        "print(\"Use head() to show a sample of data\")\n",
        "print(aqi.head())\n",
        "\n",
        "print(\"Use describe() to summarize AQI\")\n",
        "print(aqi.describe(include='all'))\n",
        "\n",
        "print(\"For a more thorough examination of observations by state use values_counts()\")\n",
        "print(aqi['state_name'].value_counts())\n",
        "\n",
        "print('for a more')"
      ],
      "id": "0444122d-6fba-4051-8b09-b15392aacebf"
    },
    {
      "cell_type": "markdown",
      "metadata": {
        "id": "4a29c065-73b4-409f-a57c-b49c740f3d1d"
      },
      "source": [
        "#### **From preceding data exploration,the facts to be recognized**\n",
        "\n",
        "- county-level data is available for the first hypothesis.\n",
        "- Ohio and New York both have a higher number of observations to work with in this dataset."
      ],
      "id": "4a29c065-73b4-409f-a57c-b49c740f3d1d"
    },
    {
      "cell_type": "markdown",
      "metadata": {
        "id": "fd48d0f0-3f90-455e-87a1-0da43fcac202"
      },
      "source": [
        "## Statistical Tests\n",
        "\n",
        "Following steps for conducting hypothesis testing:\n",
        "\n",
        "1. Formulate the null hypothesis and the alternative hypothesis.<br>\n",
        "2. Set the significance level.<br>\n",
        "3. Determine the appropriate test procedure.<br>\n",
        "4. Compute the p-value.<br>\n",
        "5. Draw your conclusion."
      ],
      "id": "fd48d0f0-3f90-455e-87a1-0da43fcac202"
    },
    {
      "cell_type": "markdown",
      "metadata": {
        "id": "d572fbab-b82e-4898-96d5-93a8f20c3094"
      },
      "source": [
        "### Hypothesis 1: ROA is considering a metropolitan-focused approach. Within California, they want to know if the mean AQI in Los Angeles County is statistically different from the rest of California."
      ],
      "id": "d572fbab-b82e-4898-96d5-93a8f20c3094"
    },
    {
      "cell_type": "code",
      "execution_count": 5,
      "metadata": {
        "id": "c8e42529-af00-4699-96b4-bd0f8989014a"
      },
      "outputs": [],
      "source": [
        "# Create dataframes for each sample being compared in your test\n",
        "ca_la = aqi[aqi['county_name']=='Los Angeles']\n",
        "ca_other = aqi[(aqi['state_name']=='California') & (aqi['county_name']!='Los Angeles')]"
      ],
      "id": "c8e42529-af00-4699-96b4-bd0f8989014a"
    },
    {
      "cell_type": "markdown",
      "metadata": {
        "id": "fdddef66-6207-4cc0-853c-0b578674bbfc"
      },
      "source": [
        "Formulation of null and alternative hypotheses:\n",
        "\n",
        "*   $H_0$: There is no difference in the mean AQI between Los Angeles County and the rest of California.\n",
        "*   $H_A$: There is a difference in the mean AQI between Los Angeles County and the rest of California.\n"
      ],
      "id": "fdddef66-6207-4cc0-853c-0b578674bbfc"
    },
    {
      "cell_type": "markdown",
      "metadata": {
        "id": "5dac3136-16bf-45d2-a560-05fe5361f5cb"
      },
      "source": [
        "#### Setting significance level:"
      ],
      "id": "5dac3136-16bf-45d2-a560-05fe5361f5cb"
    },
    {
      "cell_type": "code",
      "execution_count": 6,
      "metadata": {
        "id": "5ef36549-7ccb-4547-bf04-d23b166c65d4",
        "colab": {
          "base_uri": "https://localhost:8080/"
        },
        "outputId": "8514ff75-5742-40ce-c99d-5410aa80e5ea"
      },
      "outputs": [
        {
          "output_type": "execute_result",
          "data": {
            "text/plain": [
              "0.05"
            ]
          },
          "metadata": {},
          "execution_count": 6
        }
      ],
      "source": [
        "# For this analysis, the significance level is 5%\n",
        "\n",
        "significance_level = 0.05\n",
        "significance_level"
      ],
      "id": "5ef36549-7ccb-4547-bf04-d23b166c65d4"
    },
    {
      "cell_type": "markdown",
      "metadata": {
        "id": "4ebb679d-188d-4ca8-a886-6edb9ba1301e"
      },
      "source": [
        "#### Determination of the appropriate test procedure:"
      ],
      "id": "4ebb679d-188d-4ca8-a886-6edb9ba1301e"
    },
    {
      "cell_type": "markdown",
      "metadata": {
        "id": "ab717428-91e5-4f88-b6d5-0a8c3034e010"
      },
      "source": [
        "Comparing the sample means between two independent samples will utilize **two-sample  𝑡-test**."
      ],
      "id": "ab717428-91e5-4f88-b6d5-0a8c3034e010"
    },
    {
      "cell_type": "markdown",
      "metadata": {
        "id": "e862eb4d-a170-4126-9373-a527bf5659da"
      },
      "source": [
        "#### Computing the p-value"
      ],
      "id": "e862eb4d-a170-4126-9373-a527bf5659da"
    },
    {
      "cell_type": "code",
      "execution_count": 7,
      "metadata": {
        "id": "83ef0d80-48ec-4a5a-8acd-0fab137243c3",
        "tags": [],
        "colab": {
          "base_uri": "https://localhost:8080/"
        },
        "outputId": "d4e2bc0c-6709-444e-b56c-f040bfe62ed2"
      },
      "outputs": [
        {
          "output_type": "execute_result",
          "data": {
            "text/plain": [
              "TtestResult(statistic=2.1107010796372014, pvalue=0.049839056842410995, df=17.08246830361151)"
            ]
          },
          "metadata": {},
          "execution_count": 7
        }
      ],
      "source": [
        "# Compute your p-value here\n",
        "stats.ttest_ind(a=ca_la['aqi'], b=ca_other['aqi'], equal_var=False)"
      ],
      "id": "83ef0d80-48ec-4a5a-8acd-0fab137243c3"
    },
    {
      "cell_type": "markdown",
      "metadata": {
        "id": "2d62e8b0-59e5-471d-a5fc-d50395955a2a"
      },
      "source": [
        "#### **Relevant Question . What is p-value for hypothesis 1, and what does this indicate for null hypothesis?**\n",
        "\n",
        "With a p-value (0.049) being less than 0.05 (as your significance level is 5%), reject the null hypothesis in favor of the alternative hypothesis.\n",
        "\n",
        "Therefore, a metropolitan strategy may make sense in this case."
      ],
      "id": "2d62e8b0-59e5-471d-a5fc-d50395955a2a"
    },
    {
      "cell_type": "markdown",
      "metadata": {
        "id": "94a88155-3328-4c7e-8e60-67a2ba9d7967"
      },
      "source": [
        "### Hypothesis 2: With limited resources, ROA has to choose between New York and Ohio for their next regional office. Does New York have a lower AQI than Ohio?"
      ],
      "id": "94a88155-3328-4c7e-8e60-67a2ba9d7967"
    },
    {
      "cell_type": "code",
      "execution_count": 8,
      "metadata": {
        "id": "f39b7d83-9fbf-4bba-90c2-c99f903badd8"
      },
      "outputs": [],
      "source": [
        "# Create dataframes for each sample being compared in your test\n",
        "ny = aqi[aqi['state_name']=='New York']\n",
        "ohio = aqi[aqi['state_name']=='Ohio']"
      ],
      "id": "f39b7d83-9fbf-4bba-90c2-c99f903badd8"
    },
    {
      "cell_type": "markdown",
      "metadata": {
        "id": "7478185b-a351-4c7c-b1b8-6eaa1a26d2ed"
      },
      "source": [
        "#### Formulation of hypothesis:"
      ],
      "id": "7478185b-a351-4c7c-b1b8-6eaa1a26d2ed"
    },
    {
      "cell_type": "markdown",
      "metadata": {
        "id": "029b0f9c-0d0c-475f-b745-643a313e2b79"
      },
      "source": [
        "**Formulation of my null and alternative hypotheses:**\n",
        "\n",
        "*   $H_0$: The mean AQI of New York is greater than or equal to that of Ohio.\n",
        "*   $H_A$: The mean AQI of New York is **below** that of Ohio.\n"
      ],
      "id": "029b0f9c-0d0c-475f-b745-643a313e2b79"
    },
    {
      "cell_type": "markdown",
      "metadata": {
        "id": "b12559f5-bd57-4664-be80-7208ca8818b4"
      },
      "source": [
        "#### Significance Level (remains at 5%)"
      ],
      "id": "b12559f5-bd57-4664-be80-7208ca8818b4"
    },
    {
      "cell_type": "markdown",
      "metadata": {
        "id": "77f03fc8-0663-48b2-af4b-2936b35027e7"
      },
      "source": [
        "#### Computing the p-value"
      ],
      "id": "77f03fc8-0663-48b2-af4b-2936b35027e7"
    },
    {
      "cell_type": "code",
      "execution_count": 9,
      "metadata": {
        "id": "e495500f-c3d9-4cf2-ad1d-4687640a01b4",
        "tags": [],
        "colab": {
          "base_uri": "https://localhost:8080/"
        },
        "outputId": "de0d8d70-a29a-45d8-c920-07d81a3491ca"
      },
      "outputs": [
        {
          "output_type": "stream",
          "name": "stdout",
          "text": [
            "-2.025951038880333\n",
            "0.03044650269193468\n"
          ]
        }
      ],
      "source": [
        "# Compute your p-value here\n",
        "tstat, pvalue = stats.ttest_ind(a=ny['aqi'], b=ohio['aqi'], alternative='less', equal_var=False)\n",
        "print(tstat)\n",
        "print(pvalue)"
      ],
      "id": "e495500f-c3d9-4cf2-ad1d-4687640a01b4"
    },
    {
      "cell_type": "markdown",
      "metadata": {
        "id": "d56642db-8f45-405a-af7d-69bd3ad3fe58"
      },
      "source": [
        "#### **Relavent Question. What is p-value for hypothesis 2, and what does this indicate for null hypothesis?**\n",
        "\n",
        "With a p-value (0.030) of less than 0.05 (as significance level is 5%) and a t-statistic < 0 (-2.036), **reject the null hypothesis in favor of the alternative hypothesis**.\n",
        "\n",
        "Therefore, it can be concluded at the 5% significance level that New York has a lower mean AQI than Ohio."
      ],
      "id": "d56642db-8f45-405a-af7d-69bd3ad3fe58"
    },
    {
      "cell_type": "markdown",
      "metadata": {
        "id": "4308fdf1-3080-4697-a0b4-4c7c59c49b9b"
      },
      "source": [
        "###  Hypothesis 3: A new policy will affect those states with a mean AQI of 10 or greater. Will Michigan be affected by this new policy?"
      ],
      "id": "4308fdf1-3080-4697-a0b4-4c7c59c49b9b"
    },
    {
      "cell_type": "code",
      "execution_count": 10,
      "metadata": {
        "id": "559c43b4-ccb3-4a05-91d4-8f4aaee4d8b7"
      },
      "outputs": [],
      "source": [
        "# Create dataframes for each sample being compared in your test\n",
        "michigan = aqi[aqi['state_name']=='Michigan']"
      ],
      "id": "559c43b4-ccb3-4a05-91d4-8f4aaee4d8b7"
    },
    {
      "cell_type": "markdown",
      "metadata": {
        "id": "6886d303-82ca-42c5-980c-3893868241eb"
      },
      "source": [
        "#### Formulatio of  hypothesis:"
      ],
      "id": "6886d303-82ca-42c5-980c-3893868241eb"
    },
    {
      "cell_type": "markdown",
      "metadata": {
        "id": "b25225ee-02d7-4d42-8746-9e68598b7bf6"
      },
      "source": [
        "**Formulate  null and alternative hypotheses here:**\n",
        "\n",
        "*   $H_0$: The mean AQI of Michigan is less than or equal to 10.\n",
        "*   $H_A$: The mean AQI of Michigan is greater than 10.\n"
      ],
      "id": "b25225ee-02d7-4d42-8746-9e68598b7bf6"
    },
    {
      "cell_type": "markdown",
      "metadata": {
        "id": "32581125-a9ef-4b17-b8d5-0e1085d4c746"
      },
      "source": [
        "#### Significance Level (remains at 5%)"
      ],
      "id": "32581125-a9ef-4b17-b8d5-0e1085d4c746"
    },
    {
      "cell_type": "markdown",
      "metadata": {
        "id": "95443324-76bb-4473-b07b-dcc0c9be7251"
      },
      "source": [
        "#### Compute the P-value"
      ],
      "id": "95443324-76bb-4473-b07b-dcc0c9be7251"
    },
    {
      "cell_type": "code",
      "execution_count": 11,
      "metadata": {
        "id": "8b86c9f5-284a-4ed7-b2d4-2b531e0092f9",
        "tags": [],
        "colab": {
          "base_uri": "https://localhost:8080/"
        },
        "outputId": "9aed3e6f-f7b8-41f5-eb0b-b264e81c79fc"
      },
      "outputs": [
        {
          "output_type": "stream",
          "name": "stdout",
          "text": [
            "-1.7395913343286131\n",
            "0.9399405193140109\n"
          ]
        }
      ],
      "source": [
        "# Compute p-value here\n",
        "tstat, pvalue = stats.ttest_1samp(michigan['aqi'], 10, alternative='greater')\n",
        "print(tstat)\n",
        "print(pvalue)"
      ],
      "id": "8b86c9f5-284a-4ed7-b2d4-2b531e0092f9"
    },
    {
      "cell_type": "markdown",
      "metadata": {
        "id": "33175451-2fed-4105-8a46-1bfb0ad3b714"
      },
      "source": [
        "#### **Question 4. What is p-value for hypothesis 3, and what does this indicate for  null hypothesis?**\n",
        "\n",
        "With a p-value (0.940) being greater than 0.05 (as significance level is 5%) and a t-statistic < 0 (-1.74), **fail to reject the null hypothesis**.\n",
        "\n",
        "Therefore, it cannot be concluded at the 5% significance level that Michigan's mean AQI is greater than 10. This implies that Michigan would most likely not be affected by the new policy."
      ],
      "id": "33175451-2fed-4105-8a46-1bfb0ad3b714"
    },
    {
      "cell_type": "markdown",
      "metadata": {
        "id": "oS3JWcpU127z"
      },
      "source": [
        "## Step 4. Results and Evaluation"
      ],
      "id": "oS3JWcpU127z"
    },
    {
      "cell_type": "markdown",
      "metadata": {
        "id": "q2p_8BmC16V-"
      },
      "source": [
        "The results indicated that the AQI in Los Angeles County was in fact different from the rest of California."
      ],
      "id": "q2p_8BmC16V-"
    },
    {
      "cell_type": "markdown",
      "metadata": {
        "id": "G7-YawsW68Yd"
      },
      "source": [
        "Using a 5% significance level, it can be concluded that New York has a lower AQI than Ohio based on the results."
      ],
      "id": "G7-YawsW68Yd"
    },
    {
      "cell_type": "markdown",
      "metadata": {
        "id": "ppAmh9nD7HkZ"
      },
      "source": [
        "#### **Relavent Question: Will Michigan be affected by the new policy impacting states with a mean AQI of 10 or greater?**\n",
        "\n",
        "Based on the tests, the conclusion can be failing to reject the null hypothesis, meaning it can't be concluded that the mean AQI is greater than 10. Thus, it is unlikely that Michigan would be affected by the new policy.\n",
        "\n"
      ],
      "id": "ppAmh9nD7HkZ"
    },
    {
      "cell_type": "markdown",
      "metadata": {
        "id": "e2bf2c48-c712-4310-a83e-96a13edc4da1"
      },
      "source": [
        "# Conclusion\n",
        "\n",
        "**key takeaways from this lab**\n",
        "\n",
        "Even with small sample sizes, the variation within the data is enough to allow you to make statistically significant conclusions. It is identified at the 5% significance level that the Los Angeles mean AQI was stastitically different from the rest of California, and that New York does have a lower mean AQI than Ohio. However, it cannot be concluded at the 5% significance level that Michigan's mean AQI was greater than 10."
      ],
      "id": "e2bf2c48-c712-4310-a83e-96a13edc4da1"
    }
  ],
  "metadata": {
    "colab": {
      "collapsed_sections": [
        "b12559f5-bd57-4664-be80-7208ca8818b4",
        "32581125-a9ef-4b17-b8d5-0e1085d4c746"
      ],
      "provenance": []
    },
    "kernelspec": {
      "display_name": "Python 3",
      "language": "python",
      "name": "python3"
    },
    "language_info": {
      "codemirror_mode": {
        "name": "ipython",
        "version": 3
      },
      "file_extension": ".py",
      "mimetype": "text/x-python",
      "name": "python",
      "nbconvert_exporter": "python",
      "pygments_lexer": "ipython3",
      "version": "3.7.6"
    }
  },
  "nbformat": 4,
  "nbformat_minor": 5
}