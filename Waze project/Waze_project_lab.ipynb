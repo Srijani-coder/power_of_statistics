{
  "cells": [
    {
      "cell_type": "markdown",
      "metadata": {
        "id": "DtNBZFHO3M7n"
      },
      "source": [
        "# **Waze Project**\n",
        "**Course - The Power of Statistics**"
      ]
    },
    {
      "cell_type": "markdown",
      "metadata": {
        "id": "WVeXS7BNzX6e"
      },
      "source": [
        "The goal of theuse-case given is to analyze the relationship between mean amount of rides and device type. The emails discuss the details of the analysis. They would like a statistical analysis of ride data based on device type. In particular, leadership wants to know if there is a statistically significant difference in mean amount of rides between iPhone® users and Android™ users. A final email from Chidi includes this specific assignment: to conduct a two-sample hypothesis test (t-test) to analyze the difference in the mean amount of rides between iPhone users and Android users."
      ]
    },
    {
      "cell_type": "markdown",
      "metadata": {
        "id": "rgSbVJvomcVa"
      },
      "source": [
        "# Data exploration and hypothesis testing**\n",
        "\n",
        "**The purpose** of this project is to demostrate knowledge of how to conduct a two-sample hypothesis test.\n",
        "\n",
        "**The goal** is to apply descriptive statistics and hypothesis testing in Python.\n",
        "<br/>\n",
        "\n",
        "*This activity has three parts:*\n",
        "\n",
        "**Part 1:** Imports and data loading\n",
        "\n",
        "**Part 2:** Conduct hypothesis testing\n",
        "\n",
        "**Part 3:** Communicate insights with stakeholders\n",
        "\n",
        "<br/>\n",
        "\n"
      ]
    },
    {
      "cell_type": "markdown",
      "metadata": {
        "id": "Fs2A_FgMAQhe"
      },
      "source": [
        "# **Data exploration and hypothesis testing**"
      ]
    },
    {
      "cell_type": "markdown",
      "metadata": {
        "id": "F6_h60RuXQIz"
      },
      "source": [
        "**Research question:**\n",
        "\n",
        "\"Do drivers who open the application using an iPhone have the same number of drives on average as drivers who use Android devices?\""
      ]
    },
    {
      "cell_type": "markdown",
      "metadata": {
        "id": "xgQEdIN7f1Jq"
      },
      "source": [
        "### **Imports and data loading**"
      ]
    },
    {
      "cell_type": "code",
      "execution_count": 1,
      "metadata": {
        "id": "1Q-GL2UrgWWG"
      },
      "outputs": [],
      "source": [
        "# Import any relevant packages or libraries\n",
        "import pandas as pd\n",
        "from scipy import stats"
      ]
    },
    {
      "cell_type": "markdown",
      "metadata": {
        "id": "stMe9uT3kOmF"
      },
      "source": [
        "Import the dataset.\n"
      ]
    },
    {
      "cell_type": "code",
      "execution_count": 2,
      "metadata": {
        "id": "2qAt6Upaeg6U"
      },
      "outputs": [],
      "source": [
        "# Load dataset into dataframe\n",
        "df = pd.read_csv('/content/sample_data/waze_dataset.csv')"
      ]
    },
    {
      "cell_type": "markdown",
      "metadata": {
        "id": "UKhYTdVhf5B2"
      },
      "source": [
        "### **Data exploration**\n",
        "\n",
        "Using descriptive statistics to conduct exploratory eata analysis (EDA).\n"
      ]
    },
    {
      "cell_type": "markdown",
      "metadata": {
        "id": "JAq7ag0pTNgl"
      },
      "source": [
        "**Note:** In the dataset, `device` is a categorical variable with the labels `iPhone` and `Android`.\n",
        "\n",
        "In order to perform this analysis, I must turn each label into an integer.  The following code assigns a `1` for an `iPhone` user and a `2` for `Android`.  It assigns this label back to the variable `device_type`.\n",
        "\n",
        "**Note:** Creating a new variable is ideal so that you don't overwrite original data.\n",
        "\n"
      ]
    },
    {
      "cell_type": "markdown",
      "metadata": {
        "id": "n3_h-Gt-g7Vc"
      },
      "source": [
        "1. Creating a dictionary called `map_dictionary` that contains the class labels (`'Android'` and `'iPhone'`) for keys and the values you want to convert them to (`2` and `1`) as values.\n",
        "\n",
        "2. Creating a new column called `device_type` that is a copy of the `device` column.\n",
        "\n",
        "3. Using the [`map()`](https://pandas.pydata.org/docs/reference/api/pandas.Series.map.html#pandas-series-map) method on the `device_type` series. Passing `map_dictionary` as its argument. Reassign the result back to the `device_type` series.\n",
        "</br></br>\n"
      ]
    },
    {
      "cell_type": "code",
      "execution_count": 4,
      "metadata": {
        "colab": {
          "base_uri": "https://localhost:8080/",
          "height": 241
        },
        "id": "PFV0nIWyg4AQ",
        "outputId": "d3f62f23-8351-4e64-e697-8ed9eb428bac"
      },
      "outputs": [
        {
          "output_type": "execute_result",
          "data": {
            "text/plain": [
              "0    2\n",
              "1    1\n",
              "2    2\n",
              "3    1\n",
              "4    2\n",
              "Name: device_type, dtype: int64"
            ],
            "text/html": [
              "<div>\n",
              "<style scoped>\n",
              "    .dataframe tbody tr th:only-of-type {\n",
              "        vertical-align: middle;\n",
              "    }\n",
              "\n",
              "    .dataframe tbody tr th {\n",
              "        vertical-align: top;\n",
              "    }\n",
              "\n",
              "    .dataframe thead th {\n",
              "        text-align: right;\n",
              "    }\n",
              "</style>\n",
              "<table border=\"1\" class=\"dataframe\">\n",
              "  <thead>\n",
              "    <tr style=\"text-align: right;\">\n",
              "      <th></th>\n",
              "      <th>device_type</th>\n",
              "    </tr>\n",
              "  </thead>\n",
              "  <tbody>\n",
              "    <tr>\n",
              "      <th>0</th>\n",
              "      <td>2</td>\n",
              "    </tr>\n",
              "    <tr>\n",
              "      <th>1</th>\n",
              "      <td>1</td>\n",
              "    </tr>\n",
              "    <tr>\n",
              "      <th>2</th>\n",
              "      <td>2</td>\n",
              "    </tr>\n",
              "    <tr>\n",
              "      <th>3</th>\n",
              "      <td>1</td>\n",
              "    </tr>\n",
              "    <tr>\n",
              "      <th>4</th>\n",
              "      <td>2</td>\n",
              "    </tr>\n",
              "  </tbody>\n",
              "</table>\n",
              "</div><br><label><b>dtype:</b> int64</label>"
            ]
          },
          "metadata": {},
          "execution_count": 4
        }
      ],
      "source": [
        "# 1. Creating `map_dictionary`\n",
        "map_dictionary = {'Android': 2, 'iPhone': 1}\n",
        "\n",
        "# 2. Creating new `device_type` column\n",
        "df['device_type'] = df['device']\n",
        "\n",
        "# 3. Maping the new column to the dictionary\n",
        "df['device_type'] = df['device_type'].map(map_dictionary)\n",
        "\n",
        "df['device_type'].head()"
      ]
    },
    {
      "cell_type": "markdown",
      "metadata": {
        "id": "-fFiNg4hdGBK"
      },
      "source": [
        "I am interested in the relationship between device type and the number of drives. One approach is to look at the average number of drives for each device type. Calculate these averages."
      ]
    },
    {
      "cell_type": "code",
      "execution_count": 5,
      "metadata": {
        "colab": {
          "base_uri": "https://localhost:8080/",
          "height": 178
        },
        "id": "2LGEWrdVXgI2",
        "outputId": "9606a68a-39e5-44a2-a97d-a8d84fcbb9b7"
      },
      "outputs": [
        {
          "output_type": "execute_result",
          "data": {
            "text/plain": [
              "device_type\n",
              "1    67.859078\n",
              "2    66.231838\n",
              "Name: drives, dtype: float64"
            ],
            "text/html": [
              "<div>\n",
              "<style scoped>\n",
              "    .dataframe tbody tr th:only-of-type {\n",
              "        vertical-align: middle;\n",
              "    }\n",
              "\n",
              "    .dataframe tbody tr th {\n",
              "        vertical-align: top;\n",
              "    }\n",
              "\n",
              "    .dataframe thead th {\n",
              "        text-align: right;\n",
              "    }\n",
              "</style>\n",
              "<table border=\"1\" class=\"dataframe\">\n",
              "  <thead>\n",
              "    <tr style=\"text-align: right;\">\n",
              "      <th></th>\n",
              "      <th>drives</th>\n",
              "    </tr>\n",
              "    <tr>\n",
              "      <th>device_type</th>\n",
              "      <th></th>\n",
              "    </tr>\n",
              "  </thead>\n",
              "  <tbody>\n",
              "    <tr>\n",
              "      <th>1</th>\n",
              "      <td>67.859078</td>\n",
              "    </tr>\n",
              "    <tr>\n",
              "      <th>2</th>\n",
              "      <td>66.231838</td>\n",
              "    </tr>\n",
              "  </tbody>\n",
              "</table>\n",
              "</div><br><label><b>dtype:</b> float64</label>"
            ]
          },
          "metadata": {},
          "execution_count": 5
        }
      ],
      "source": [
        "df.groupby('device_type')['drives'].mean()"
      ]
    },
    {
      "cell_type": "markdown",
      "metadata": {
        "id": "Z_u-zWvGdfII"
      },
      "source": [
        "Based on the averages shown, it appears that drivers who use an iPhone device to interact with the application have a higher number of drives on average. However, this difference might arise from random sampling, rather than being a true difference in the number of drives. To assess whether the difference is statistically significant, a hypothesis test can be conducted."
      ]
    },
    {
      "cell_type": "markdown",
      "metadata": {
        "id": "QpFRQDaNzX6p"
      },
      "source": [
        "\n",
        "### **Hypothesis testing**"
      ]
    },
    {
      "cell_type": "markdown",
      "metadata": {
        "id": "7Mn5GJ460HUS"
      },
      "source": [
        "\n",
        "\n",
        "### **Two-sample t-test**\n",
        "\n",
        "1.   Statement of the null hypothesis and the alternative hypothesis\n",
        "2.   Choice a signficance level\n",
        "3.   Finding the p-value\n",
        "4.   Rejecting or failing to reject the null hypothesis\n",
        "\n",
        "**Note:** This is a t-test for two independent samples. This is the appropriate test since the two groups are independent (Android users vs. iPhone users)."
      ]
    },
    {
      "cell_type": "markdown",
      "metadata": {
        "id": "pw3YTF5AGfzY"
      },
      "source": [
        "\n",
        "**Question:** Hypotheses for data project"
      ]
    },
    {
      "cell_type": "markdown",
      "metadata": {
        "id": "SkDeGggZYM84"
      },
      "source": [
        "\n",
        "**Hypotheses:**\n",
        "\n",
        "$H_0$: There is no difference in average number of drives between drivers who use iPhone devices and drivers who use Androids.\n",
        "\n",
        "$H_A$: There is a difference in average number of drives between drivers who use iPhone devices and drivers who use Androids."
      ]
    },
    {
      "cell_type": "markdown",
      "metadata": {
        "id": "IVHpnfvNeTUA"
      },
      "source": [
        " The significance level and proceed with a two-sample t-test : 5%"
      ]
    },
    {
      "cell_type": "code",
      "execution_count": 6,
      "metadata": {
        "colab": {
          "base_uri": "https://localhost:8080/"
        },
        "id": "rdlsXg7Dhbrd",
        "outputId": "07ec639b-0dd0-4c23-97d1-b68cd4fb1fbf"
      },
      "outputs": [
        {
          "output_type": "execute_result",
          "data": {
            "text/plain": [
              "TtestResult(statistic=1.463523206885235, pvalue=0.143351972680206, df=11345.066049381952)"
            ]
          },
          "metadata": {},
          "execution_count": 6
        }
      ],
      "source": [
        "# 1. Isolate the `drives` column for iPhone users.\n",
        "iPhone = df[df['device_type'] == 1]['drives']\n",
        "\n",
        "# 2. Isolate the `drives` column for Android users.\n",
        "Android = df[df['device_type'] == 2]['drives']\n",
        "\n",
        "# 3. Perform the t-test\n",
        "stats.ttest_ind(a=iPhone, b=Android, equal_var=False)"
      ]
    },
    {
      "cell_type": "markdown",
      "metadata": {
        "id": "4cx01KwnTwY7"
      },
      "source": [
        " *Since the p-value is larger than the chosen significance level (5%), I fail to reject the null hypothesis. It can be concluded that there is **not** a statistically significant difference in the average number of drives between drivers who use iPhones and drivers who use Androids.*"
      ]
    },
    {
      "cell_type": "markdown",
      "metadata": {
        "id": "ItreFaZKhvVw"
      },
      "source": [
        "\n",
        "**Business insights**\n",
        "\n",
        "> *The key business insight is that drivers who use iPhone devices on average have a similar number of drives as those who use Androids.*\n",
        "\n",
        "> *One potential next step is to explore what other factors influence the variation in the number of drives, and run additonal hypothesis tests to learn more about user behavior. Further, temporary changes in marketing or user interface for the Waze app may provide more data to investigate churn.*"
      ]
    }
  ],
  "metadata": {
    "colab": {
      "provenance": []
    },
    "kernelspec": {
      "display_name": "Python 3",
      "language": "python",
      "name": "python3"
    },
    "language_info": {
      "codemirror_mode": {
        "name": "ipython",
        "version": 3
      },
      "file_extension": ".py",
      "mimetype": "text/x-python",
      "name": "python",
      "nbconvert_exporter": "python",
      "pygments_lexer": "ipython3",
      "version": "3.7.6"
    }
  },
  "nbformat": 4,
  "nbformat_minor": 0
}